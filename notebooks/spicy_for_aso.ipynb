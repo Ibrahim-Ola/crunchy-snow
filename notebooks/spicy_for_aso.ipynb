{
 "cells": [
  {
   "cell_type": "markdown",
   "metadata": {
    "collapsed": true,
    "jupyter": {
     "outputs_hidden": true
    }
   },
   "source": [
    "# download spicy products for ASO rasters"
   ]
  },
  {
   "cell_type": "markdown",
   "metadata": {},
   "source": [
    "This notebook contains functions to run spicy-snow for the region/date of each snow depth raster in a directory.\n",
    "\n",
    "NOTES:\n",
    "- Changed sentinel1.py in spicy to resample to 60 m pixel spacing rather than default 90.\n",
    "- Changed user_dates.py to have start date on September 1 instead of August 1\n",
    "- Changed sentinel1.py to download dem in addition to other hyp3 outputs"
   ]
  },
  {
   "cell_type": "code",
   "execution_count": 1,
   "metadata": {
    "scrolled": true,
    "tags": []
   },
   "outputs": [],
   "source": [
    "# # install spicy-snow in the current Jupyter kernel\n",
    "# import sys\n",
    "# !{sys.executable} -m pip install spicy-snow"
   ]
  },
  {
   "cell_type": "code",
   "execution_count": 2,
   "metadata": {
    "tags": []
   },
   "outputs": [],
   "source": [
    "# import spicy-snow functions and other required packages\n",
    "# depending on your environment, you may need to install some of these\n",
    "from spicy_snow.retrieval import retrieve_snow_depth\n",
    "from spicy_snow.IO.user_dates import get_input_dates\n",
    "import geopandas as gpd\n",
    "from pathlib import Path\n",
    "from shapely import geometry\n",
    "from glob import glob\n",
    "import rasterio as rio\n",
    "import os"
   ]
  },
  {
   "cell_type": "code",
   "execution_count": 3,
   "metadata": {},
   "outputs": [],
   "source": [
    "# create groups by year, utm zone, and location\n",
    "utm10n_2016a = ['ASO_50M_SD_USWAOL_20160329_clean', 'ASO_50M_SD_USWAOL_20160208_clean']\n",
    "utm10n_2022a = ['ASO_50M_SD_Truckee_20220514_clean', 'ASO_50M_SD_Feather_20220429_clean', 'ASO_50M_SD_Feather_20220310_clean', \n",
    "                'ASO_50M_SD_Feather_20220331_clean', 'ASO_50M_SD_Truckee_20220310_clean', 'ASO_50M_SD_Truckee_20220408_clean']\n",
    "utm10n_2023a = ['ASO_50M_SD_American_20230413_clean', 'ASO_50M_SD_American_20230428_clean', 'ASO_50M_SD_American_20230131_clean', \n",
    "                'ASO_50M_SD_American_20230602_clean', 'ASO_50M_SD_American_20230602_clean', 'ASO_50M_SD_American_20230602_clean', \n",
    "                'ASO_50M_SD_Feather_20230206_clean', 'ASO_50M_SD_Feather_20230618_clean', 'ASO_50M_SD_LowerPit_20230425_clean', \n",
    "                'ASO_50M_SD_LowerPit_20230212_clean', 'ASO_50M_SD_LowerPit_20230511_clean', 'ASO_50M_SD_SacramentoMcCloud_20230209_clean', \n",
    "                'ASO_50M_SD_SacramentoMcCloud_20230515_clean', 'ASO_50M_SD_Yuba_20230625_clean', 'ASO_50M_SD_Yuba_20230531_clean', \n",
    "                'ASO_50M_SD_Yuba_20230128_clean', 'ASO_50M_SD_Yuba_20230426_clean', 'ASO_50M_SD_Yuba_20230405_clean', \n",
    "                'ASO_50M_SD_Truckee_20230511_clean', 'ASO_50M_SD_Truckee_20230608_clean', 'ASO_50M_SD_Truckee_20230409_clean']\n",
    "utm10n_2023b = ['ASO_50M_SD_Sprague_20230514_clean']\n",
    "\n",
    "utm11n_2016a = ['ASO_50M_SD_USCALB_20160626_clean', 'ASO_50M_SD_USCALB_20160621_clean', 'ASO_50M_SD_USCALB_20160614_clean', \n",
    "                'ASO_50M_SD_USCALB_20160607_clean', 'ASO_50M_SD_USCALB_20160509_clean', 'ASO_50M_SD_USCARC_20160412_clean', \n",
    "                'ASO_50M_SD_USCATB_20160326_clean', 'ASO_50M_SD_USCATB_20160401_clean', 'ASO_50M_SD_USCATB_20160407_clean', \n",
    "                'ASO_50M_SD_USCATB_20160416_clean', 'ASO_50M_SD_USCATB_20160426_clean', 'ASO_50M_SD_USCATB_20160509_clean', \n",
    "                'ASO_50M_SD_USCATB_20160527_clean', 'ASO_50M_SD_USCATB_20160607_clean', 'ASO_50M_SD_USCATB_20160708_clean']\n",
    "utm11n_2017a = ['ASO_50M_SD_USCALB_20170815_clean', 'ASO_50M_SD_USCALB_20170128_clean', 'ASO_50M_SD_USCALV_20170717_clean', \n",
    "                'ASO_50M_SD_USCARC_20170717_clean', 'ASO_50M_SD_USCASF_20170718_clean', 'ASO_50M_SD_USCASJ_20170129_clean', \n",
    "                'ASO_50M_SD_USCASJ_20170719_clean', 'ASO_50M_SD_USCASJ_20170815_clean', 'ASO_50M_SD_USCATB_20170717_clean', \n",
    "                'ASO_50M_SD_USCATB_20170727_clean', 'ASO_50M_SD_USCATB_20170816_clean']\n",
    "utm11n_2018a = ['ASO_50M_SD_USCALB_20180601_clean', 'ASO_50M_SD_USCALB_20180422_clean', 'ASO_50M_SD_USCAJW_20180423_clean', \n",
    "                'ASO_50M_SD_USCAJW_20180602_clean', 'ASO_50M_SD_USCAKC_20180426_clean', 'ASO_50M_SD_USCAKN_20180426_clean', \n",
    "                'ASO_50M_SD_USCAMB_20180425_clean', 'ASO_50M_SD_USCASF_20180423_clean', 'ASO_50M_SD_USCASF_20180601_clean', \n",
    "                'ASO_50M_SD_USCASJ_20180422_clean', 'ASO_50M_SD_USCASJ_20180601_clean', 'ASO_50M_SD_USCATB_20180423_clean', \n",
    "                'ASO_50M_SD_USCATB_20180528_clean']\n",
    "utm11n_2019a = ['ASO_50M_SD_USCALB_20190715_clean', 'ASO_50M_SD_USCALB_20190703_clean', 'ASO_50M_SD_USCALB_20190611_clean', \n",
    "                'ASO_50M_SD_USCALB_20190501_clean', 'ASO_50M_SD_USCALB_20190309_clean', 'ASO_50M_SD_USCAJW_20190605_clean', \n",
    "                'ASO_50M_SD_USCAJW_20190315_clean', 'ASO_50M_SD_USCAKC_20190316_clean', 'ASO_50M_SD_USCAKC_20190326_clean', \n",
    "                'ASO_50M_SD_USCAKC_20190418_clean', 'ASO_50M_SD_USCAKC_20190427_clean', 'ASO_50M_SD_USCAKC_20190428_clean', \n",
    "                'ASO_50M_SD_USCAKC_20190608_clean', 'ASO_50M_SD_USCAKC_20190611_clean', 'ASO_50M_SD_USCAKN_20190417_clean', \n",
    "                'ASO_50M_SD_USCAKW_20190317_clean', 'ASO_50M_SD_USCAKW_20190324_clean', 'ASO_50M_SD_USCAKW_20190421_clean', \n",
    "                'ASO_50M_SD_USCAMB_20190329_clean', 'ASO_50M_SD_USCAMB_20190604_clean', 'ASO_50M_SD_USCAMB_20190703_clean', \n",
    "                'ASO_50M_SD_USCAMB_20190716_clean', 'ASO_50M_SD_USCASF_20190317_clean', 'ASO_50M_SD_USCASF_20190502_clean', \n",
    "                'ASO_50M_SD_USCASF_20190609_clean', 'ASO_50M_SD_USCASF_20190704_clean', 'ASO_50M_SD_USCASF_20190714_clean', \n",
    "                'ASO_50M_SD_USCASJ_20190325_clean', 'ASO_50M_SD_USCASJ_20190501_clean', 'ASO_50M_SD_USCASJ_20190614_clean', \n",
    "                'ASO_50M_SD_USCASJ_20190704_clean', 'ASO_50M_SD_USCASJ_20190713_clean', 'ASO_50M_SD_USCATE_20190324_clean', \n",
    "                'ASO_50M_SD_USCATE_20190417_clean', 'ASO_50M_SD_USCATE_20190503_clean', 'ASO_50M_SD_USCATE_20190613_clean', \n",
    "                'ASO_50M_SD_USCATE_20190705_clean']\n",
    "utm11n_2020a = ['ASO_50M_SD_Tuolumne_20200507_clean', 'ASO_50M_SD_Tuolumne_20200413_clean', 'ASO_50M_SD_SanJoaquin_20200523_clean', \n",
    "                'ASO_50M_SD_SanJoaquin_20200608_clean', 'ASO_50M_SD_Merced_20200521_clean', 'ASO_50M_SD_Merced_20200604_clean', \n",
    "                'ASO_50M_SD_Merced_20200507_clean', 'ASO_50M_SD_Merced_20200413_clean']\n",
    "utm11n_2021a = ['ASO_50M_SD_Tuolumne_20210224_clean', 'ASO_50M_SD_Tuolumne_20210429_clean', 'ASO_50M_SD_SanJoaquin_20210503_clean', \n",
    "                'ASO_50M_SD_SanJoaquin_20210226_clean', 'ASO_50M_SD_SanJoaquin_20210331_clean', 'ASO_50M_SD_Merced_20210429_clean', \n",
    "                'ASO_50M_SD_Merced_20210526_clean', 'ASO_50M_SD_Kaweah_20210504_clean', 'ASO_50M_SD_Kaweah_20210423_clean']\n",
    "utm11n_2022a = ['ASO_50M_SD_Carson_20220406_clean', 'ASO_50M_SD_Tuolumne_20220518_clean', 'ASO_50M_SD_Tuolumne_20220204_clean', \n",
    "                'ASO_50M_SD_Tuolumne_20220228_clean', 'ASO_50M_SD_Tuolumne_20220405_clean', 'ASO_50M_SD_Tuolumne_20220429_clean', \n",
    "                'ASO_50M_SD_SanJoaquin_20220316_clean', 'ASO_50M_SD_SanJoaquin_20220206_clean', 'ASO_50M_SD_SanJoaquin_20220430_clean', \n",
    "                'ASO_50M_SD_SanJoaquin_20220417_clean', 'ASO_50M_SD_Merced_20220513_clean', 'ASO_50M_SD_Merced_20220301_clean', \n",
    "                'ASO_50M_SD_Merced_20220428_clean', 'ASO_50M_SD_Merced_20220412_clean', 'ASO_50M_SD_Kaweah_20220517_clean', \n",
    "                'ASO_50M_SD_Kaweah_20220327_clean', 'ASO_50M_SD_Kaweah_20220308_clean', 'ASO_50M_SD_Kaweah_20220429_clean']\n",
    "utm11n_2023a = ['ASO_50M_SD_Carson_20230607_clean', 'ASO_50M_SD_Carson_20230331_clean', 'ASO_50M_SD_Carson_20230510_clean', \n",
    "                'ASO_50M_SD_UpperOwensBasin_20230527_clean', 'ASO_50M_SD_UpperOwensBasin_20230615_clean', 'ASO_50M_SD_UpperOwensBasin_20230702_clean', \n",
    "                'ASO_50M_SD_Tuolumne_20230316_clean', 'ASO_50M_SD_Tuolumne_20230302_clean', 'ASO_50M_SD_Tuolumne_20230626_clean',\n",
    "                'ASO_50M_SD_Tuolumne_20230601_clean', 'ASO_50M_SD_Tuolumne_20230124_clean', 'ASO_50M_SD_Tuolumne_20230427_clean',\n",
    "                'ASO_50M_SD_SanJoaquin_20230523_clean', 'ASO_50M_SD_SanJoaquin_20230317_clean', 'ASO_50M_SD_SanJoaquin_20230623_clean', \n",
    "                'ASO_50M_SD_SanJoaquin_20230121_clean', 'ASO_50M_SD_SanJoaquin_20230414_clean', 'ASO_50M_SD_Mono_20230527_clean', \n",
    "                'ASO_50M_SD_Mono_20230615_clean', 'ASO_50M_SD_Mono_20230702_clean', 'ASO_50M_SD_Merced_20230515_clean', \n",
    "                'ASO_50M_SD_Merced_20230326_clean', 'ASO_50M_SD_Merced_20230303_clean', 'ASO_50M_SD_Merced_20230608_clean', \n",
    "                'ASO_50M_SD_Merced_20230131_clean', 'ASO_50M_SD_Kings_20230528_clean', 'ASO_50M_SD_Kings_20230331_clean', \n",
    "                'ASO_50M_SD_Kings_20230316_clean', 'ASO_50M_SD_Kings_20230630_clean', 'ASO_50M_SD_Kings_20230421_clean', \n",
    "                'ASO_50M_SD_Kings_20230122_clean', 'ASO_50M_SD_Kern_20230326_clean', 'ASO_50M_SD_Kern_20230603_clean', \n",
    "                'ASO_50M_SD_Kern_20230204_clean', 'ASO_50M_SD_Kern_20230429_clean', 'ASO_50M_SD_Kaweah_20230307_clean', \n",
    "                'ASO_50M_SD_Kaweah_20230602_clean', 'ASO_50M_SD_Kaweah_20230127_clean', 'ASO_50M_SD_Kaweah_20230423_clean',\n",
    "                'ASO_50M_SD_Kaweah_20230405_clean']\n",
    "\n",
    "utm12n_2021a = ['ASO_50M_SD_Dolores_20210514_clean', 'ASO_50M_SD_Dolores_20210420_clean']\n",
    "utm12n_2022a = ['ASO_50M_SD_Dolores_20220510_clean', 'ASO_50M_SD_Dolores_20220415_clean']\n",
    "utm12n_2022b = ['ASO_50M_SD_WindRiver_20220611_clean', 'ASO_50M_SD_GreenRiver_20220611_clean']\n",
    "utm12n_2023a = ['ASO_50M_SD_Dolores_20230525_clean', 'ASO_50M_SD_Dolores_20230406_clean']\n",
    "\n",
    "utm13n_2016a = ['ASO_50M_SD_USCOCJ_20160403_clean', 'ASO_50M_SD_USCORG_20160403_clean']\n",
    "utm13n_2018a = ['ASO_50M_SD_USCOGE_20180331_clean', 'ASO_50M_SD_USCOGE_20180524_clean', 'ASO_50M_SD_USCOGT_20180330_clean', \n",
    "                'ASO_50M_SD_USCOCB_20180330_clean']\n",
    "utm13n_2019a = ['ASO_50M_SD_BlueRiver_20190419_clean', 'ASO_50M_SD_BlueRiver_20190624_clean', 'ASO_50M_SD_TenMileCk_20190613_clean', \n",
    "                'ASO_50M_SD_USCOBR_20190419_clean', 'ASO_50M_SD_USCOBR_20190624_clean', 'ASO_50M_SD_USCOCM_20190407_clean', \n",
    "                'ASO_50M_SD_USCOCM_20190610_clean', 'ASO_50M_SD_USCOGE_20190407_clean', 'ASO_50M_SD_USCOGE_20190610_clean', \n",
    "                'ASO_50M_SD_USCOGT_20190408_clean', 'ASO_50M_SD_USCOGT_20190609_clean']\n",
    "utm13n_2021a = ['ASO_50M_SD_Animas_20210419_clean', 'ASO_50M_SD_BlueRiver_20210418_clean', 'ASO_50M_SD_BlueRiver_20210524_clean', \n",
    "                'ASO_50M_SD_Conejos_20210420_clean', 'ASO_50M_SD_Conejos_20210516_clean']\n",
    "utm13n_2022a = ['ASO_50M_SD_Blue_20220419_clean', 'ASO_50M_SD_Blue_20220526_clean', 'ASO_50M_SD_Conejos_20220510_clean', \n",
    "                'ASO_50M_SD_EastRiver_20220518_clean', 'ASO_50M_SD_Gunnison_20220421_clean', 'ASO_50M_SD_GunnisonTaylor_20220421_clean', \n",
    "                'ASO_50M_SD_GunnisonTaylor_20220525_clean', 'ASO_50M_SD_Conejos_20220415_clean', 'ASO_50M_SD_WindyGap_20220418_clean', \n",
    "                'ASO_50M_SD_WindyGap_20220526_clean']\n",
    "utm13n_2023a = ['ASO_50M_SD_BigThompsonLittleThompson_20230521_clean', 'ASO_50M_SD_BlueRiver_20230416_clean', 'ASO_50M_SD_BlueRiver_20230529_clean', \n",
    "                'ASO_50M_SD_BoulderCreek_20230509_clean', 'ASO_50M_SD_ClearCreek_20230509_clean', 'ASO_50M_SD_Conejos_20230505_clean', \n",
    "                'ASO_50M_SD_EastRiver_20230401_clean', 'ASO_50M_SD_EastRiver_20230523_clean', 'ASO_50M_SD_Poudre_20230522_clean',\n",
    "                'ASO_50M_SD_RoaringFork_20230411_clean', 'ASO_50M_SD_RoaringFork_20230528_clean', 'ASO_50M_SD_SouthPlatte_20230416_clean',\n",
    "                'ASO_50M_SD_SouthPlatte_20230526_clean', 'ASO_50M_SD_StVrainLefthand_20230521_clean', 'ASO_50M_SD_Taylor_20230401_clean', \n",
    "                'ASO_50M_SD_TaylorAndLottis_20230523_clean', 'ASO_50M_SD_WindyGap_20230527_clean', 'ASO_50M_SD_WindyGap_20230416_clean']"
   ]
  },
  {
   "cell_type": "code",
   "execution_count": 4,
   "metadata": {},
   "outputs": [],
   "source": [
    "def date_bbox_from_groups(group, dir_path):\n",
    "    bbox = {'left':100000000, 'bottom':100000000, 'right':0, 'top':0}\n",
    "    latest_date = 0\n",
    "    for fn in group:\n",
    "        path = f'{dir_path}/{fn}.tif'\n",
    "        raster_bounds = rio.open(path).bounds\n",
    "\n",
    "        if bbox['left'] > raster_bounds[0]:\n",
    "            bbox['left'] = raster_bounds[0]\n",
    "        if bbox['bottom'] > raster_bounds[1]:\n",
    "            bbox['bottom'] = raster_bounds[1]\n",
    "        if bbox['right'] < raster_bounds[2]:\n",
    "            bbox['right'] = raster_bounds[2]\n",
    "        if bbox['top'] < raster_bounds[3]:\n",
    "            bbox['top'] = raster_bounds[3]\n",
    "\n",
    "        date = int(fn.split('_')[-2])\n",
    "        if date > latest_date:\n",
    "            latest_date = date\n",
    "\n",
    "    return str(latest_date), bbox"
   ]
  },
  {
   "cell_type": "code",
   "execution_count": 5,
   "metadata": {},
   "outputs": [],
   "source": [
    "def spicy_for_aso_group(group, dir_path):\n",
    "    '''\n",
    "    Run spicy for the combined extent and latest date of group of ASO rasters\n",
    "    '''\n",
    "    # get latest date and combined bbox for group\n",
    "    date, bbox = date_bbox_from_groups(group, dir_path)\n",
    "    \n",
    "    raster = rio.open(f'{dir_path}/{group[0]}.tif')\n",
    "    gdf = gpd.GeoDataFrame({\"id\":1,\"geometry\":[geometry.box(*bbox.values())]}, crs=raster.crs)\n",
    "    area = gdf.to_crs('4326').geometry.values[0]\n",
    "\n",
    "    dates = get_input_dates(date)\n",
    "    group_name = f'{group=}'.split('=')[0]\n",
    "        \n",
    "    # define output directory and file name\n",
    "    out_nc = Path(f'..data/spicy/{group_name.split(\"_\")[0]}/spicy_{group_name}_{dates[0]}_{dates[1]}.nc').expanduser()\n",
    "        \n",
    "    if os.path.exists(out_nc):\n",
    "            print('spicy-snow output already exists, skipping')\n",
    "            \n",
    "    else:\n",
    "        # run spicy-snow for ASO raster group\n",
    "        spicy_ds = retrieve_snow_depth(area = area,\n",
    "                                       dates = dates, \n",
    "                                       work_dir = Path('/mnt/Backups/gbrench/repos/crunchy-snow/data/tmp').expanduser(), \n",
    "                                       job_name = f'spicy_{group_name}_{dates[0]}_{dates[1]}',\n",
    "                                       existing_job_name = f'spicy_{group_name}_{dates[0]}_{dates[1]}',\n",
    "                                       debug=False,\n",
    "                                       outfp=out_nc)\n",
    "            \n",
    "        #!rm /tmp/spicy/tmp/S1*.tif"
   ]
  },
  {
   "cell_type": "code",
   "execution_count": null,
   "metadata": {},
   "outputs": [
    {
     "name": "stdout",
     "output_type": "stream",
     "text": [
      "(spicy-snow spicy_snow.utils.spicy_logging INFO) Found 402 results\n"
     ]
    },
    {
     "name": "stderr",
     "output_type": "stream",
     "text": [
      "Submitting s1 jobs: 100%|███████████████████████████████████████████████████| 402/402 [03:24<00:00,  1.97it/s]"
     ]
    },
    {
     "name": "stdout",
     "output_type": "stream",
     "text": [
      "(spicy-snow spicy_snow.utils.spicy_logging INFO) Watching 402 jobs. This may take a while...\n"
     ]
    },
    {
     "name": "stderr",
     "output_type": "stream",
     "text": [
      "\n"
     ]
    },
    {
     "data": {
      "application/vnd.jupyter.widget-view+json": {
       "model_id": "9e96b7ad509f48bb9cd1ce4425b025a3",
       "version_major": 2,
       "version_minor": 0
      },
      "text/plain": [
       "  0%|          | 0/402 [timeout in 10800 s]"
      ]
     },
     "metadata": {},
     "output_type": "display_data"
    }
   ],
   "source": [
    "path = '../data/ASO/ASO_50m_SD_cleaned/utm13n'\n",
    "spicy_for_aso_group(utm13n_2023a, path)"
   ]
  },
  {
   "cell_type": "code",
   "execution_count": null,
   "metadata": {},
   "outputs": [],
   "source": [
    "# def spicy_for_aso(dir_path):\n",
    "#     '''\n",
    "#     Run spicy for the extent and date of ASO rasters\n",
    "#     '''\n",
    "#     path_list = glob(f'{dir_path}/*ASO_50M_SD*.tif')\n",
    "    \n",
    "#     for i, path in enumerate(path_list):\n",
    "#         print(f'-------\\nworking on {path.split(\"/\")[-1]}, {i+1}/{len(path_list)}\\n-------')\n",
    "#         # get bounding box from ASO raster\n",
    "#         raster = rio.open(path)\n",
    "#         gdf = gpd.GeoDataFrame({\"id\":1,\"geometry\":[geometry.box(*raster.bounds)]}, crs=raster.crs)\n",
    "#         area = gdf.to_crs('4326').geometry.values[0]\n",
    "        \n",
    "#         # get acquistion date from ASO raster\n",
    "#         dates = get_input_dates(path.split('/')[-1].split('_')[-2])\n",
    "        \n",
    "#         # define output directory and file name\n",
    "#         site_name = path.split('/')[-1].split('_')[-3]\n",
    "#         utm_zone = path.split('/')[-2]\n",
    "#         out_nc = Path(f'..data/spicy/{utm_zone}/spicy_{site_name}_{dates[0]}_{dates[1]}.nc').expanduser()\n",
    "        \n",
    "#         if os.path.exists(out_nc):\n",
    "#             print('spicy-snow output already exists, skipping')\n",
    "            \n",
    "#         else:\n",
    "#             # run spicy-snow for ASO raster\n",
    "#             spicy_ds = retrieve_snow_depth(area = area,\n",
    "#                                            dates = dates, \n",
    "#                                            work_dir = Path('/mnt/Backups/gbrench/repos/crunchy-snow/data/tmp').expanduser(), \n",
    "#                                            job_name = f'spicy_{site_name}_{dates[0]}_{dates[1]}',\n",
    "#                                            existing_job_name = f'spicy_{site_name}_{dates[0]}_{dates[1]}',\n",
    "#                                            debug=False,\n",
    "#                                            outfp=out_nc)\n",
    "            \n",
    "#             #!rm /tmp/spicy/tmp/S1*.tif"
   ]
  },
  {
   "cell_type": "code",
   "execution_count": null,
   "metadata": {
    "tags": []
   },
   "outputs": [],
   "source": [
    "# path = '../data/ASO/ASO_50m_SD_cleaned/utm12n'\n",
    "# spicy_for_aso(path)"
   ]
  }
 ],
 "metadata": {
  "kernelspec": {
   "display_name": "Python 3 (ipykernel)",
   "language": "python",
   "name": "python3"
  },
  "language_info": {
   "codemirror_mode": {
    "name": "ipython",
    "version": 3
   },
   "file_extension": ".py",
   "mimetype": "text/x-python",
   "name": "python",
   "nbconvert_exporter": "python",
   "pygments_lexer": "ipython3",
   "version": "3.11.4"
  }
 },
 "nbformat": 4,
 "nbformat_minor": 4
}
