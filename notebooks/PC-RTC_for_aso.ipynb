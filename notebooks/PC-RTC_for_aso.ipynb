{
 "cells": [
  {
   "cell_type": "markdown",
   "id": "0f5064e2-5ec3-4be7-9041-f825ee38c249",
   "metadata": {},
   "source": [
    "# Download Sentinel-1 RTC for each ASO raster\n",
    "Given an ASO raster, find and download 1) the most proximate in time S1 RTC product 2) a \"snow-off\" RTC product from the preceeding summer. "
   ]
  },
  {
   "cell_type": "code",
   "execution_count": 1,
   "id": "a54fdc55-62d9-4c67-bb24-c213da49ed3c",
   "metadata": {
    "tags": []
   },
   "outputs": [],
   "source": [
    "# based on exmaples from\n",
    "# https://planetarycomputer.microsoft.com/docs/tutorials/cloudless-mosaic-sentinel2/\n",
    "# https://planetarycomputer.microsoft.com/dataset/sentinel-2-l2a#Example-Notebook\n",
    "from pystac.extensions.eo import EOExtension as eo\n",
    "import pystac_client\n",
    "import planetary_computer\n",
    "import glob\n",
    "import rioxarray as rxr\n",
    "import re\n",
    "import datetime\n",
    "import pandas as pd\n",
    "from shapely.geometry import box\n",
    "import odc.stac\n",
    "import numpy as np\n",
    "import matplotlib.pyplot as plt\n",
    "import xarray as xr"
   ]
  },
  {
   "cell_type": "code",
   "execution_count": 2,
   "id": "a3045b36-213a-493d-9e95-845355ac1423",
   "metadata": {
    "tags": []
   },
   "outputs": [],
   "source": [
    "def rtc_for_aso_snowon(aso_raster_fn):\n",
    "    \n",
    "    time = pd.to_datetime(re.search(\"(\\d{4}\\d{2}\\d{2})\", aso_raster_fn).group())\n",
    "    week_before = (time - datetime.timedelta(weeks=1)).strftime('%Y-%m-%d')\n",
    "    week_after = (time + datetime.timedelta(weeks=1)).strftime('%Y-%m-%d')\n",
    "    time_of_interest = f'{week_before}/{week_after}'\n",
    "    \n",
    "    aso_raster = rxr.open_rasterio(aso_raster_fn).squeeze()\n",
    "    aso_raster = aso_raster.where(aso_raster>=0, drop=True)\n",
    "    aso_raster = aso_raster.interpolate_na(dim='x')\n",
    "    bounds_latlon = box(*aso_raster.rio.transform_bounds(\"EPSG:4326\"))\n",
    "    \n",
    "    catalog = pystac_client.Client.open(\n",
    "    \"https://planetarycomputer.microsoft.com/api/stac/v1\",\n",
    "    modifier=planetary_computer.sign_inplace)\n",
    "\n",
    "    search = catalog.search(\n",
    "        collections=[\"sentinel-1-rtc\"],\n",
    "        intersects=bounds_latlon,\n",
    "        datetime=time_of_interest)\n",
    "\n",
    "    # Check how many items were returned\n",
    "    items = search.item_collection()\n",
    "    print(f\"Returned {len(items)} Items\")\n",
    "    \n",
    "    rtc_stac = odc.stac.load(items,chunks={\"x\": 2048, \"y\": 2048},resolution=50, groupby='sat:absolute_orbit')\n",
    "    rtc_stac_clipped = rtc_stac.rio.clip_box(*bounds_latlon.bounds,crs=\"EPSG:4326\")\n",
    "    \n",
    "    rel_orbits = [scene.properties['sat:relative_orbit'] for scene in items.items]\n",
    "    ac_times = [scene.properties['datetime'] for scene in items.items]\n",
    "    ac_times = [np.datetime64(item) for item in ac_times]\n",
    "    \n",
    "    # clip to ASO extent\n",
    "    rtc_stac_clipped = rtc_stac_clipped.rio.reproject_match(aso_raster).where(aso_raster>=0, drop=True)\n",
    "    \n",
    "    # limit to morning acquisitions\n",
    "    rtc_ds = rtc_stac_clipped.where(rtc_stac_clipped.time.dt.hour > 11, drop=True)\n",
    "    if rtc_ds.vv.size == 0 :\n",
    "        print('No morning acquisitions found')\n",
    "        return None\n",
    "    \n",
    "    # calculate percent vh coverage of each acquisition\n",
    "    perc_cover = (rtc_ds.vh > 0).sum(dim=['x', 'y'])/(rtc_ds.vh >= -1000000000).sum(dim=['x', 'y'])\n",
    "    \n",
    "    # if multiple with full coverage, grab nearest in time with full coverage\n",
    "    if perc_cover.values.tolist().count(1) > 1:\n",
    "        rtc_ds = rtc_ds.where(perc_cover == 1, drop=True).sortby('time')\n",
    "        rtc_ds = rtc_ds.sel(time=time, method='nearest')\n",
    "    \n",
    "    # exit if no rasters have good vh coverage\n",
    "    elif perc_cover.max() < 0.1:\n",
    "        print('max vh coverage is < 10 percent--recommend skipping ASO raster')\n",
    "        return None\n",
    "     \n",
    "    # otherwise, grab max coverage \n",
    "    else:\n",
    "        rtc_ds = rtc_ds.sel(time=perc_cover.idxmax())\n",
    "    \n",
    "    # mask negative areas\n",
    "    rtc_ds = rtc_ds.where(rtc_ds.vh > 0, drop=True)\n",
    "    \n",
    "    # get relative orbit of scene\n",
    "    rel_orbit = rel_orbits[ac_times.index(rtc_ds.time)]\n",
    "    \n",
    "    #rtc_ds.to_netcdf(f'../data/S1_rtc/S1_snow-on_{rtc_ds.time.dt.strftime(\"%Y%m%d\").item()}_for_{aso_raster_fn[8:-4]}.nc')\n",
    "    \n",
    "    return rel_orbit"
   ]
  },
  {
   "cell_type": "code",
   "execution_count": 3,
   "id": "d4af8df1-c381-458d-a987-42d12b1aee57",
   "metadata": {
    "tags": []
   },
   "outputs": [],
   "source": [
    "# fn = '/home/jovyan/crunchy-snow/data/ASO/ASO_50m_SD_cleaned/utm12n/ASO_50M_SD_WindRiver_20220611_clean.tif'"
   ]
  },
  {
   "cell_type": "code",
   "execution_count": 4,
   "id": "ba40ed02-b065-4d7c-8a88-fbe4fdc47684",
   "metadata": {
    "tags": []
   },
   "outputs": [],
   "source": [
    "# rel_orbit, rtc_ds, aso = rtc_for_aso_snowon(fn)"
   ]
  },
  {
   "cell_type": "code",
   "execution_count": 5,
   "id": "063edff7-d305-483b-8fbc-992e393f8d6e",
   "metadata": {
    "tags": []
   },
   "outputs": [],
   "source": [
    "# f, ax = plt.subplots(1, 2, figsize = (10, 10))\n",
    "# ax[0].imshow(rtc_ds.vh, vmax=0.1, vmin=0)\n",
    "# ax[0].set_aspect('equal')\n",
    "# ax[1].imshow(aso, vmin=0, vmax=2, cmap = \"Blues\")\n",
    "# ax[1].set_aspect('equal')\n",
    "# plt.tight_layout()"
   ]
  },
  {
   "cell_type": "code",
   "execution_count": 6,
   "id": "ae24ec3b-ff09-4a46-81e0-befb4c7efbd0",
   "metadata": {},
   "outputs": [],
   "source": [
    "def rtc_for_aso_snowoff(aso_raster_fn, orbit):\n",
    "    \n",
    "    if orbit == None:\n",
    "        print('no orbit supplied, skipping')\n",
    "        return None\n",
    "    \n",
    "    year = pd.to_datetime(re.search(\"(\\d{4}\\d{2}\\d{2})\", aso_raster_fn).group()).year\n",
    "    time = pd.to_datetime(f'{year-1}0910')\n",
    "    week_before = (time - datetime.timedelta(weeks=1)).strftime('%Y-%m-%d')\n",
    "    week_after = (time + datetime.timedelta(weeks=1)).strftime('%Y-%m-%d')\n",
    "    time_of_interest = f'{week_before}/{week_after}'\n",
    "    \n",
    "    aso_raster = rxr.open_rasterio(aso_raster_fn).squeeze()\n",
    "    aso_raster = aso_raster.where(aso_raster>=0, drop=True)\n",
    "    aso_raster = aso_raster.interpolate_na(dim='x')\n",
    "    bounds_latlon = box(*aso_raster.rio.transform_bounds(\"EPSG:4326\"))\n",
    "    \n",
    "    catalog = pystac_client.Client.open(\n",
    "    \"https://planetarycomputer.microsoft.com/api/stac/v1\",\n",
    "    modifier=planetary_computer.sign_inplace)\n",
    "\n",
    "    search = catalog.search(\n",
    "        collections=[\"sentinel-1-rtc\"],\n",
    "        intersects=bounds_latlon,\n",
    "        datetime=time_of_interest)\n",
    "\n",
    "    # Check how many items were returned\n",
    "    items = search.item_collection()\n",
    "    print(f\"Returned {len(items)} Items\")\n",
    "    \n",
    "    # grab only items with appropriate relative orbit\n",
    "    item_list = []\n",
    "    for item in items:\n",
    "        if item.properties[\"sat:relative_orbit\"] == orbit:\n",
    "            item_list.append(items)\n",
    "    \n",
    "    rtc_stac = odc.stac.load(items,chunks={\"x\": 2048, \"y\": 2048},resolution=50, groupby='sat:absolute_orbit')\n",
    "    rtc_stac_clipped = rtc_stac.rio.clip_box(*bounds_latlon.bounds,crs=\"EPSG:4326\")\n",
    "    \n",
    "    # clip to ASO extent\n",
    "    rtc_stac_clipped = rtc_stac_clipped.rio.reproject_match(aso_raster).where(aso_raster>=0, drop=True)\n",
    "    \n",
    "    # limit to morning acquisitions\n",
    "    rtc_ds = rtc_stac_clipped.where(rtc_stac_clipped.time.dt.hour > 11, drop=True)\n",
    "    \n",
    "    # calculate percent vh coverage of each acquisition\n",
    "    perc_cover = (rtc_ds.vh > 0).sum(dim=['x', 'y'])/(rtc_ds.vh >= -1000000000).sum(dim=['x', 'y'])\n",
    "    \n",
    "    # if multiple with full coverage, grab nearest in time with full coverage\n",
    "    if perc_cover.values.tolist().count(1) > 1:\n",
    "        rtc_ds = rtc_ds.where(perc_cover == 1, drop=True).sortby('time')\n",
    "        rtc_ds = rtc_ds.sel(time=time, method='nearest')\n",
    "    \n",
    "    # exit if no rasters have good vh coverage\n",
    "    elif perc_cover.max() < 0.1:\n",
    "        print('max vh coverage is < 10 percent--recommend skipping ASO raster')\n",
    "        return None\n",
    "     \n",
    "    # otherwise, grab max coverage \n",
    "    else:\n",
    "        rtc_ds = rtc_ds.sel(time=perc_cover.idxmax())\n",
    "    \n",
    "    # mask negative areas\n",
    "    rtc_ds = rtc_ds.where(rtc_ds.vh > 0, drop=True)\n",
    "    \n",
    "    #rtc_ds.to_netcdf(f'../data/S1_rtc/S1_snow-off_{rtc_ds.time.dt.strftime(\"%Y%m%d\").item()}_for_{aso_raster_fn[8:-4]}.nc')"
   ]
  },
  {
   "cell_type": "code",
   "execution_count": 7,
   "id": "0ae8f23e-9255-47be-9e55-5617fa3541d0",
   "metadata": {
    "tags": []
   },
   "outputs": [],
   "source": [
    "# rtc_ds, aso = rtc_for_aso_snowoff(fn, rel_orbit)"
   ]
  },
  {
   "cell_type": "code",
   "execution_count": 8,
   "id": "5c53f24c-0273-4dfa-abb4-00b2cb0bca95",
   "metadata": {
    "tags": []
   },
   "outputs": [],
   "source": [
    "# rtc_ds"
   ]
  },
  {
   "cell_type": "code",
   "execution_count": 9,
   "id": "003d59ec-adb6-4986-91ea-bc981f5b60e5",
   "metadata": {
    "tags": []
   },
   "outputs": [],
   "source": [
    "# f, ax = plt.subplots(1, 2, figsize = (10, 10), sharex=True, sharey=True)\n",
    "# ax[0].imshow(rtc_ds.vh, vmax=0.1, vmin=0)\n",
    "# ax[0].set_aspect('equal')\n",
    "# ax[1].imshow(aso, vmin=0, vmax=2, cmap = \"Blues\")\n",
    "# ax[1].set_aspect('equal')\n",
    "# plt.tight_layout()"
   ]
  },
  {
   "cell_type": "code",
   "execution_count": 10,
   "id": "d6e99807-8fd3-4bdd-aa2a-44beed78015d",
   "metadata": {
    "tags": []
   },
   "outputs": [],
   "source": [
    "def rtc_for_aso_all(dir_path):\n",
    "    raster_paths = glob.glob(f'{dir_path}/*/ASO_50M_SD*.tif')\n",
    "    for i, path in enumerate(raster_paths):\n",
    "        print(f'----\\nworking on {path.split(\"/\")[-1]}, {i+1}/{len(raster_paths)}\\n----')\n",
    "        \n",
    "        relative_orbit = rtc_for_aso_snowon(path)\n",
    "        rtc_for_aso_snowoff(path, relative_orbit)"
   ]
  },
  {
   "cell_type": "code",
   "execution_count": null,
   "id": "57953403-83c7-49f9-9230-1006abc3d961",
   "metadata": {
    "scrolled": true,
    "tags": []
   },
   "outputs": [
    {
     "name": "stdout",
     "output_type": "stream",
     "text": [
      "----\n",
      "working on ASO_50M_SD_BlueRiver_20230529_clean.tif, 1/243\n",
      "----\n",
      "Returned 2 Items\n"
     ]
    },
    {
     "name": "stderr",
     "output_type": "stream",
     "text": [
      "/tmp/ipykernel_3034/2749076730.py:31: DeprecationWarning: parsing timezone aware datetimes is deprecated; this will raise an error in the future\n",
      "  ac_times = [np.datetime64(item) for item in ac_times]\n",
      "/srv/conda/envs/notebook/lib/python3.11/site-packages/rasterio/warp.py:344: NotGeoreferencedWarning: Dataset has no geotransform, gcps, or rpcs. The identity matrix will be returned.\n",
      "  _reproject(\n"
     ]
    },
    {
     "name": "stdout",
     "output_type": "stream",
     "text": [
      "No morning acquisitions found\n",
      "no orbit supplied, skipping\n",
      "----\n",
      "working on ASO_50M_SD_Animas_20210419_clean.tif, 2/243\n",
      "----\n",
      "Returned 6 Items\n",
      "Returned 6 Items\n",
      "----\n",
      "working on ASO_50M_SD_EastRiver_20230523_clean.tif, 3/243\n",
      "----\n",
      "Returned 5 Items\n",
      "Returned 4 Items\n",
      "----\n",
      "working on ASO_50M_SD_EastRiver_20220518_clean.tif, 4/243\n",
      "----\n",
      "Returned 3 Items\n",
      "Returned 6 Items\n",
      "----\n",
      "working on ASO_50M_SD_SouthPlatte_20230416_clean.tif, 5/243\n",
      "----\n",
      "Returned 6 Items\n",
      "Returned 8 Items\n",
      "----\n",
      "working on ASO_50M_SD_USCOCM_20190407_clean.tif, 6/243\n",
      "----\n",
      "Returned 3 Items\n",
      "Returned 4 Items\n",
      "----\n",
      "working on ASO_50M_SD_TaylorAndLottis_20230523_clean.tif, 7/243\n",
      "----\n",
      "Returned 4 Items\n",
      "Returned 3 Items\n",
      "----\n",
      "working on ASO_50M_SD_USCOGE_20180331_clean.tif, 8/243\n",
      "----\n",
      "Returned 5 Items\n",
      "Returned 8 Items\n"
     ]
    }
   ],
   "source": [
    "dir_path = '/home/jovyan/crunchy-snow/data/ASO/ASO_50m_SD_cleaned'\n",
    "test = rtc_for_aso_all(dir_path)"
   ]
  }
 ],
 "metadata": {
  "kernelspec": {
   "display_name": "Python 3 (ipykernel)",
   "language": "python",
   "name": "python3"
  },
  "language_info": {
   "codemirror_mode": {
    "name": "ipython",
    "version": 3
   },
   "file_extension": ".py",
   "mimetype": "text/x-python",
   "name": "python",
   "nbconvert_exporter": "python",
   "pygments_lexer": "ipython3",
   "version": "3.11.4"
  }
 },
 "nbformat": 4,
 "nbformat_minor": 5
}
